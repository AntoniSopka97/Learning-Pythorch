{
 "cells": [
  {
   "cell_type": "code",
   "execution_count": 1,
   "id": "dd621e07",
   "metadata": {},
   "outputs": [],
   "source": [
    "#!pip install ultralytics -q"
   ]
  },
  {
   "cell_type": "code",
   "execution_count": 1,
   "id": "d25b903f",
   "metadata": {},
   "outputs": [],
   "source": [
    "from ultralytics import YOLO\n",
    "\n",
    "\n",
    "%matplotlib inline\n",
    "%config Completer.use_jedi = False\n",
    "\n",
    "from matplotlib import pyplot as plt\n",
    "from PIL import Image\n",
    "import cv2 \n",
    "from IPython.display import display\n",
    "\n",
    "\n",
    "#device = torch.device('cuda' if torch.cuda.is_available() else 'cpu')\n",
    "#device"
   ]
  },
  {
   "cell_type": "code",
   "execution_count": 47,
   "id": "cd0d4541",
   "metadata": {},
   "outputs": [],
   "source": [
    "def show_image(img):\n",
    "    img = cv2.cvtColor(img, cv2.COLOR_BGR2RGB) # Converting BGR to RGB\n",
    "    display(Image.fromarray(img))\n",
    "    \n",
    "def rescale_frame(frame, scale = 0.75,width = 0, height = 0):\n",
    "    '''Resize input image'''\n",
    "    \n",
    "    if scale != 0:\n",
    "        width = int(frame.shape[1] * scale)\n",
    "        height = int(frame.shape[0] * scale)\n",
    "        dim = (width, height)\n",
    "    else:\n",
    "        dim = (width, height)\n",
    "    \n",
    "      \n",
    "    out = cv2.resize(frame, dim, interpolation = cv2.INTER_AREA)\n",
    "    return out\n",
    "\n",
    "\n",
    "def get_shape_frame(frame):\n",
    "    height, width, channels = frame.shape\n",
    "    print(f\"height: {height}, width: {width}, channels: {channels}\")\n",
    "    return height, width, channels"
   ]
  },
  {
   "cell_type": "code",
   "execution_count": 3,
   "id": "45b33910",
   "metadata": {},
   "outputs": [],
   "source": [
    "#image = cv2.imread('Dataset/SSD/cat/cat.10084.jpg')\n",
    "#show_image(image)"
   ]
  },
  {
   "cell_type": "code",
   "execution_count": 22,
   "id": "3b96177b",
   "metadata": {},
   "outputs": [],
   "source": [
    "model = YOLO(\"Models/yolo/yolov8m-seg.pt\")"
   ]
  },
  {
   "cell_type": "code",
   "execution_count": 24,
   "id": "5cd93070",
   "metadata": {},
   "outputs": [
    {
     "name": "stderr",
     "output_type": "stream",
     "text": [
      "\n",
      "0: 640x416 1 cat, 1 bowl, 1 sink, 239.4ms\n",
      "Speed: 3.0ms preprocess, 239.4ms inference, 3.0ms postprocess per image at shape (1, 3, 640, 640)\n",
      "Results saved to \u001b[1mruns\\segment\\predict2\u001b[0m\n",
      "1 label saved to runs\\segment\\predict2\\labels\n"
     ]
    }
   ],
   "source": [
    "image = cv2.imread(\"Dataset/SSD/cat/cat.10528.jpg\")\n",
    "results = model(image , device = 0,\n",
    "                            save_txt=True,    \n",
    "                            save_conf=False,  \n",
    "                            save_crop=False,   \n",
    "                            save = True,\n",
    "                            #boxes=True,     \n",
    "                            retina_masks = False,\n",
    "                            #stream=True,\n",
    "                            verbose=True\n",
    "                       )"
   ]
  },
  {
   "cell_type": "code",
   "execution_count": 57,
   "id": "2a3b55eb",
   "metadata": {},
   "outputs": [
    {
     "name": "stderr",
     "output_type": "stream",
     "text": [
      "WARNING  'Masks.masks' is deprecated. Use 'Masks.data' instead.\n"
     ]
    },
    {
     "data": {
      "image/png": "[encoded data removed]",
      "text/plain": [
       "<PIL.Image.Image image mode=RGB size=282x439>"
      ]
     },
     "metadata": {},
     "output_type": "display_data"
    }
   ],
   "source": [
    "mask = (results[0].masks.masks[0].cpu().numpy() * 255).astype(\"uint8\")\n",
    "\n",
    "mask = rescale_frame(mask, scale = 0, width= 282, height=439)\n",
    "show_image(mask)\n"
   ]
  },
  {
   "cell_type": "code",
   "execution_count": 15,
   "id": "ef071465",
   "metadata": {
    "scrolled": true
   },
   "outputs": [],
   "source": [
    "import time\n",
    "\n",
    "prev_frame_time = 0\n",
    "new_frame_time = 0\n",
    "\n",
    "\n",
    "cap = cv2.VideoCapture(0)\n",
    "\n",
    "# Loop through the video frames\n",
    "while cap.isOpened():\n",
    "    # Read a frame from the video\n",
    "    success, frame = cap.read()\n",
    "\n",
    "    if success:\n",
    "        new_frame_time = time.time()\n",
    "        # Run YOLOv8 inference on the frame\n",
    "        results = model(frame , device = 0,\n",
    "                            save_txt=False,    \n",
    "                            save_conf=False,  \n",
    "                            save_crop=False,   \n",
    "                            save = False,\n",
    "                            #boxes=True,     \n",
    "                            retina_masks = False,\n",
    "                            #stream=True,\n",
    "                            verbose=False\n",
    "                       )\n",
    "\n",
    "        # Visualize the results on the frame\n",
    "        annotated_frame = results[0].plot(masks = False)\n",
    "        \n",
    "        fps = 1//(new_frame_time-prev_frame_time)\n",
    "        prev_frame_time = new_frame_time\n",
    "     \n",
    "        cv2.putText(annotated_frame, str(fps), (50, 50), cv2.FONT_HERSHEY_SIMPLEX, 1, (100, 255, 0), 3, cv2.LINE_AA)  \n",
    "        # Display the annotated frame\n",
    "        cv2.imshow(\"YOLOv8 Inference\", annotated_frame)\n",
    "\n",
    "        # Break the loop if 'q' is pressed\n",
    "        if cv2.waitKey(1) & 0xFF == ord(\"q\"):\n",
    "            break\n",
    "    else:\n",
    "        # Break the loop if the end of the video is reached\n",
    "        break\n",
    "\n",
    "# Release the video capture object and close the display window\n",
    "cap.release()\n",
    "cv2.destroyAllWindows()"
   ]
  },
  {
   "cell_type": "code",
   "execution_count": 10,
   "id": "eae9b713",
   "metadata": {},
   "outputs": [],
   "source": [
    "cap.release()\n",
    "cv2.destroyAllWindows()"
   ]
  },
  {
   "cell_type": "code",
   "execution_count": null,
   "id": "9abed0b2",
   "metadata": {},
   "outputs": [],
   "source": []
  }
 ],
 "metadata": {
  "kernelspec": {
   "display_name": "env_name",
   "language": "python",
   "name": "env_name"
  },
  "language_info": {
   "codemirror_mode": {
    "name": "ipython",
    "version": 3
   },
   "file_extension": ".py",
   "mimetype": "text/x-python",
   "name": "python",
   "nbconvert_exporter": "python",
   "pygments_lexer": "ipython3",
   "version": "3.10.11"
  },
  "toc": {
   "base_numbering": 1,
   "nav_menu": {},
   "number_sections": true,
   "sideBar": true,
   "skip_h1_title": false,
   "title_cell": "Table of Contents",
   "title_sidebar": "Contents",
   "toc_cell": false,
   "toc_position": {},
   "toc_section_display": true,
   "toc_window_display": false
  }
 },
 "nbformat": 4,
 "nbformat_minor": 5
}
